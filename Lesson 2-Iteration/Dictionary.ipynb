s = 'Life is short, So Python is easy.'
punct = ', .'
d = {}
for c in s.upper(): #for c in s.lower().split(' '): -> 이렇게 하면 단어별로 나누어진다.
    if c in punct:
        continue
    d[c] = d.get(c, 0) + 1

print(d)
