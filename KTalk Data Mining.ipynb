import pandas as pd
import numpy as np

import platform
import matplotlib.pyplot as plt
import seaborn as sns

%matplotlib inline

path = "c:/Windows/Fonts/malgun.ttf"
from matplotlib import font_manager, rc
if platform.system() == 'Darwin':
    rc('font', family='AppleGothic')
elif platform.system() == 'Windows':
    font_name = font_manager.FontProperties(fname=path).get_name()
    rc('font', family=font_name)
else:
    print('Unknown system')    

plt.rcParams['axes.unicode_minus'] = False

from konlpy.tag import K
ks = K()
ks.sentences('환영합니다 한국은 처음이죠? 반갑습니다!')

ks.nouns('환영합니다 한국은 처음이죠? 반갑습니다!')

ks.pos('환영합니다 한국은 처음이죠? 반갑습니다!')

import nltk

kakao = open('14-14 마이닝.txt').read()

from konlpy.tag import Twitter; t = Twitter()
tokens_kakao = t.nouns(kakao)
tokens_kakao

ko = nltk.Text(tokens_kakao, name='카카오톡 내용')

print(len(ko.tokens))           # returns number of tokens (document length)
print(len(set(ko.tokens)))   # returns number of unique tokens
ko.vocab()                        # returns frequency distribution

plt.figure(figsize=(12,6))
ko.plot(50)
plt.show()

stop_words = ['.', '(', ')', ',', "'", '-', 
              '은', '을', '의', '자', '에', '거', '때', '저', '나', '그', '임',
              '이','개','더', '내', '난', '데', '애']

ko = [each_word for each_word in ko if each_word not in stop_words]
ko

ko = nltk.Text(ko, name='카카오톡 내용')

plt.figure(figsize=(12,6))
ko.plot(50)     # Plot sorted frequency of top 50 tokens
plt.show()

ko.collocations()

data = ko.vocab().most_common(150)

# for win : font_path='c:/Windows/Fonts/malgun.ttf'
wordcloud = WordCloud(font_path='c:/Windows/Fonts/malgun.ttf',
                      relative_scaling = 0.2,
                      background_color='white',
                      ).generate_from_frequencies(dict(data))
plt.figure(figsize=(12,8))
plt.imshow(wordcloud)
plt.axis("off")
plt.show() //빅데이터 
