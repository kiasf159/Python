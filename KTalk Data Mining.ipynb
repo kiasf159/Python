<pre><code>import pandas as pd
import numpy as np

import platform
import matplotlib.pyplot as plt
import seaborn as sns

%matplotlib inline

path = "c:/Windows/Fonts/malgun.ttf"
from matplotlib import font_manager, rc
if platform.system() == 'Darwin':
    rc('font', family='AppleGothic')
elif platform.system() == 'Windows':
    font_name = font_manager.FontProperties(fname=path).get_name()
    rc('font', family=font_name)
else:
    print('Unknown system')    

plt.rcParams['axes.unicode_minus'] = False </code></pre>
